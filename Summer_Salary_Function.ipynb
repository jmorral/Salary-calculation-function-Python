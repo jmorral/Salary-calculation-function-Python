{
  "nbformat": 4,
  "nbformat_minor": 0,
  "metadata": {
    "colab": {
      "name": "Summer Salary Function",
      "provenance": [],
      "collapsed_sections": [],
      "include_colab_link": true
    },
    "kernelspec": {
      "name": "python3",
      "display_name": "Python 3"
    }
  },
  "cells": [
    {
      "cell_type": "markdown",
      "metadata": {
        "id": "view-in-github",
        "colab_type": "text"
      },
      "source": [
        "<a href=\"https://colab.research.google.com/github/jmorral/Salary-calculation-function-python/blob/main/Summer_Salary_Function.ipynb\" target=\"_parent\"><img src=\"https://colab.research.google.com/assets/colab-badge.svg\" alt=\"Open In Colab\"/></a>"
      ]
    },
    {
      "cell_type": "markdown",
      "metadata": {
        "id": "XrSPAHLhTf71"
      },
      "source": [
        "# Summer Salary Worksheet"
      ]
    },
    {
      "cell_type": "markdown",
      "metadata": {
        "id": "M31z9nUkW-58"
      },
      "source": [
        "***Please note that the function will need to be updated if overhead and fringe rates change for the different award years. "
      ]
    },
    {
      "cell_type": "code",
      "metadata": {
        "id": "hp9LEff1H_pm",
        "cellView": "form"
      },
      "source": [
        "#@title\n",
        "def summer_salary(salary, fund_type, months):\n",
        "  \"\"\"Calculate the full cost of summer salary for a professor taking fund type into consideration.\"\"\"\n",
        "  fringe_unrestricted = 1.30\n",
        "  fringe_restricted = 1.30\n",
        "  overhead = 1.585\n",
        "  salary = salary/9\n",
        "  return (salary * fringe_restricted * overhead * months) if fund_type == 25 or fund_type == 24 else (salary * fringe_unrestricted * months)"
      ],
      "execution_count": null,
      "outputs": []
    },
    {
      "cell_type": "markdown",
      "metadata": {
        "id": "OXnF-rCWU19c"
      },
      "source": [
        "This worksheet can be easily used to determine a professor's summer salary. \n",
        "\n",
        "This is how to use this function:\n",
        "\n",
        "        function(arguments)\n",
        "\n",
        "        summer_salary(salary, fund_type, months)\n",
        "\n",
        "So for a professor with a salary of $100,000 a year, paid by a fund 25, for 2 months, you would enter: \n",
        "\n",
        "        summer_salary(100000, 25, 2) \n",
        "\n",
        "\n",
        "Open a new code cell and try:"
      ]
    },
    {
      "cell_type": "code",
      "metadata": {
        "id": "9tI9-9-LVq_T",
        "colab": {
          "base_uri": "https://localhost:8080/",
          "height": 34
        },
        "outputId": "e5c0a289-6b81-4dbf-fa60-37458cb654cd"
      },
      "source": [
        "summer_salary(100000, 25, 2)"
      ],
      "execution_count": null,
      "outputs": [
        {
          "output_type": "execute_result",
          "data": {
            "text/plain": [
              "45788.88888888889"
            ]
          },
          "metadata": {
            "tags": []
          },
          "execution_count": 3
        }
      ]
    },
    {
      "cell_type": "markdown",
      "metadata": {
        "id": "UUKZ0FzFVwEY"
      },
      "source": [
        "The returned value of $45,788.89 is for two months of summer salary on a fund 25 grant!\n"
      ]
    }
  ]
}